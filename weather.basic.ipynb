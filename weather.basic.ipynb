{
  "nbformat": 4,
  "nbformat_minor": 0,
  "metadata": {
    "colab": {
      "provenance": [],
      "authorship_tag": "ABX9TyPk2Xk3XzbhXMFHCTKm2RAx",
      "include_colab_link": true
    },
    "kernelspec": {
      "name": "python3",
      "display_name": "Python 3"
    },
    "language_info": {
      "name": "python"
    }
  },
  "cells": [
    {
      "cell_type": "markdown",
      "metadata": {
        "id": "view-in-github",
        "colab_type": "text"
      },
      "source": [
        "<a href=\"https://colab.research.google.com/github/Nihalnash/program-1/blob/main/weather.basic.ipynb\" target=\"_parent\"><img src=\"https://colab.research.google.com/assets/colab-badge.svg\" alt=\"Open In Colab\"/></a>"
      ]
    },
    {
      "cell_type": "code",
      "execution_count": 2,
      "metadata": {
        "colab": {
          "base_uri": "https://localhost:8080/"
        },
        "id": "40t_Ls7SD_tz",
        "outputId": "8cf844dd-bbf2-42ca-a507-ac1e717b2173"
      },
      "outputs": [
        {
          "output_type": "stream",
          "name": "stdout",
          "text": [
            "Enter city name: tirur\n",
            "Weather in tirur: broken clouds, Temperature: 32.55°C\n"
          ]
        }
      ],
      "source": [
        "\n",
        "\n",
        "def get_weather(city):\n",
        "    api_key = 'f7da5b6b47d5213a006bec438d62fa91'  # Replace 'YOUR_API_KEY' with your actual API key from OpenWeatherMap\n",
        "    url = f'http://api.openweathermap.org/data/2.5/weather?q={city}&appid={api_key}&units=metric'\n",
        "    response = requests.get(url)\n",
        "    data = response.json()\n",
        "    return data\n",
        "\n",
        "\n",
        "city = input(\"Enter city name: \")\n",
        "weather_data = get_weather(city)\n",
        "if weather_data['cod'] == 200:  # Check if the response status code is OK\n",
        "    temperature = weather_data['main']['temp']\n",
        "    description = weather_data['weather'][0]['description']\n",
        "    print(f\"Weather in {city}: {description}, Temperature: {temperature}°C\")\n",
        "else:\n",
        "    print(\"City not found or error in fetching weather data.\")\n"
      ]
    }
  ]
}