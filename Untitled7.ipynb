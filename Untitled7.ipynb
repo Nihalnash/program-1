{
  "nbformat": 4,
  "nbformat_minor": 0,
  "metadata": {
    "colab": {
      "provenance": [],
      "authorship_tag": "ABX9TyMis73nY9ThGbjkl/fOoLuD",
      "include_colab_link": true
    },
    "kernelspec": {
      "name": "python3",
      "display_name": "Python 3"
    },
    "language_info": {
      "name": "python"
    }
  },
  "cells": [
    {
      "cell_type": "markdown",
      "metadata": {
        "id": "view-in-github",
        "colab_type": "text"
      },
      "source": [
        "<a href=\"https://colab.research.google.com/github/Nihalnash/program-1/blob/main/Untitled7.ipynb\" target=\"_parent\"><img src=\"https://colab.research.google.com/assets/colab-badge.svg\" alt=\"Open In Colab\"/></a>"
      ]
    },
    {
      "cell_type": "code",
      "source": [
        "# prompt: fint the given number is equal\n",
        "\n",
        "a = int(input(\"Enter the first number: \"))\n",
        "b = int(input(\"Enter the second number: \"))\n",
        "if a < b:\n",
        "  print(\"frist number less than second\")\n",
        "elif a < b:\n",
        "  print(\"frist number is greater than second\")\n",
        "else:\n",
        "  print(f\"frist number is equal to second\")\n"
      ],
      "metadata": {
        "colab": {
          "base_uri": "https://localhost:8080/"
        },
        "id": "WFJ2L6JUR7FV",
        "outputId": "bb3bb764-6b7c-445c-e1bc-0589d0b645db"
      },
      "execution_count": 1,
      "outputs": [
        {
          "output_type": "stream",
          "name": "stdout",
          "text": [
            "Enter the first number: 2\n",
            "Enter the second number: 3\n",
            "frist number less than second\n"
          ]
        }
      ]
    },
    {
      "cell_type": "code",
      "source": [
        "def addition(a,b):\n",
        "    print (f\"Sum of {a},{b}=\",a+b)\n",
        "\n",
        "a=int(input())\n",
        "b=int(input())\n",
        "\n",
        "addition(a,b)\n"
      ],
      "metadata": {
        "colab": {
          "base_uri": "https://localhost:8080/"
        },
        "id": "QZ5gSDk9U2Aw",
        "outputId": "aec2cf66-6fcc-4874-dbf7-d1b5ff4c2bed"
      },
      "execution_count": 3,
      "outputs": [
        {
          "output_type": "stream",
          "name": "stdout",
          "text": [
            "1\n",
            "2\n",
            "Sum of 1,2= 3\n"
          ]
        }
      ]
    },
    {
      "cell_type": "code",
      "source": [
        "number =int (input())\n",
        "\n",
        "i=1\n",
        "print(\"Multiplication table for\",number, \":\")\n",
        "while i<11:\n",
        "    result = number * i\n",
        "    print (f\"{number} X {i} = {result}\")\n",
        "    i=i+1"
      ],
      "metadata": {
        "id": "8QiZhnAcTBlL"
      },
      "execution_count": null,
      "outputs": []
    },
    {
      "cell_type": "code",
      "source": [
        "\n",
        "def factorial(n):\n",
        "  if n == 0:\n",
        "     return 1;\n",
        "\n",
        "  result = 1\n",
        "  for i in range(1,n + 1):\n",
        "      result *=i\n",
        "  return result\n",
        "factorial(10)\n",
        "\n"
      ],
      "metadata": {
        "colab": {
          "base_uri": "https://localhost:8080/"
        },
        "id": "RDb19wBuTFmX",
        "outputId": "53933857-8038-4814-a2d6-1d90afbdab91"
      },
      "execution_count": 8,
      "outputs": [
        {
          "output_type": "execute_result",
          "data": {
            "text/plain": [
              "3628800"
            ]
          },
          "metadata": {},
          "execution_count": 8
        }
      ]
    }
  ]
}