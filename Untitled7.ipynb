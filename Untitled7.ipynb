{
  "nbformat": 4,
  "nbformat_minor": 0,
  "metadata": {
    "colab": {
      "provenance": [],
      "authorship_tag": "ABX9TyNyGevoKCITrV34EjeAKuuY",
      "include_colab_link": true
    },
    "kernelspec": {
      "name": "python3",
      "display_name": "Python 3"
    },
    "language_info": {
      "name": "python"
    }
  },
  "cells": [
    {
      "cell_type": "markdown",
      "metadata": {
        "id": "view-in-github",
        "colab_type": "text"
      },
      "source": [
        "<a href=\"https://colab.research.google.com/github/Nihalnash/program-1/blob/main/Untitled7.ipynb\" target=\"_parent\"><img src=\"https://colab.research.google.com/assets/colab-badge.svg\" alt=\"Open In Colab\"/></a>"
      ]
    },
    {
      "cell_type": "code",
      "source": [
        "# prompt: fint the given number is equal\n",
        "\n",
        "a = int(input(\"Enter the first number: \"))\n",
        "b = int(input(\"Enter the second number: \"))\n",
        "if a < b:\n",
        "  print(\"frist number less than second\")\n",
        "elif a < b:\n",
        "  print(\"frist number is greater than second\")\n",
        "else:\n",
        "  print(f\"frist number is equal to second\")\n"
      ],
      "metadata": {
        "colab": {
          "base_uri": "https://localhost:8080/"
        },
        "id": "WFJ2L6JUR7FV",
        "outputId": "bb3bb764-6b7c-445c-e1bc-0589d0b645db"
      },
      "execution_count": 1,
      "outputs": [
        {
          "output_type": "stream",
          "name": "stdout",
          "text": [
            "Enter the first number: 2\n",
            "Enter the second number: 3\n",
            "frist number less than second\n"
          ]
        }
      ]
    },
    {
      "cell_type": "code",
      "source": [
        "number =int (input())\n",
        "\n",
        "i=1\n",
        "print(\"Multiplication table for\",number, \":\")\n",
        "while i<11:\n",
        "    result = number * i\n",
        "    print (f\"{number} X {i} = {result}\")\n",
        "    i=i+1"
      ],
      "metadata": {
        "id": "8QiZhnAcTBlL"
      },
      "execution_count": null,
      "outputs": []
    },
    {
      "cell_type": "code",
      "source": [],
      "metadata": {
        "id": "RDb19wBuTFmX"
      },
      "execution_count": null,
      "outputs": []
    },
    {
      "cell_type": "code",
      "source": [
        "# prompt: find the sum of two values with user input\n",
        "\n",
        "a = int(input(\"Enter the first number: \"))\n",
        "b = int(input(\"Enter the second number: \"))\n",
        "print(a + b)\n"
      ],
      "metadata": {
        "colab": {
          "base_uri": "https://localhost:8080/"
        },
        "id": "HWK0_xLGDMEh",
        "outputId": "050baf1a-a645-4383-b9d4-190bcfb7ee6b"
      },
      "execution_count": null,
      "outputs": [
        {
          "output_type": "stream",
          "name": "stdout",
          "text": [
            "Enter the first number: 1\n",
            "Enter the second number: 34\n",
            "35\n"
          ]
        }
      ]
    }
  ]
}